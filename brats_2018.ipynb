{
 "metadata": {
  "language_info": {
   "codemirror_mode": {
    "name": "ipython",
    "version": 3
   },
   "file_extension": ".py",
   "mimetype": "text/x-python",
   "name": "python",
   "nbconvert_exporter": "python",
   "pygments_lexer": "ipython3",
   "version": "3.7.6-final"
  },
  "orig_nbformat": 2,
  "kernelspec": {
   "name": "python3",
   "display_name": "Python 3"
  }
 },
 "nbformat": 4,
 "nbformat_minor": 2,
 "cells": [
  {
   "source": [
    "####  MICCAI_BraTS_2018_Data 数据集说明\n",
    "\n",
    "- BraTS 数据集是脑肿瘤分割比赛数据集，brats 2018中的训练集( training set) 有285个病例，每个病例有四个模态(t1、t2、flair、t1ce)，需要分割三个部分：whole tumor(WT), enhance tumor(ET), and tumor core(TC)\n",
    "\n",
    "- t1、t2、flair、t1ce可以理解为核磁共振图像的四个不同纬度信息，每个序列的图像shape为（155,240,240）\n",
    "\n",
    "- 目标是分割出三个label。对应医学中的三个不同肿瘤类型\n",
    "\n",
    "#### 数据集介绍\n",
    "BraTs数据集类型为XX.nii.gz，分别对应t1、t2、flair、t1ce，seg，其中seg是分割图像。图像大小均为（155，240，240）"
   ],
   "cell_type": "markdown",
   "metadata": {}
  },
  {
   "source": [
    "## 提取数据"
   ],
   "cell_type": "markdown",
   "metadata": {}
  },
  {
   "cell_type": "code",
   "execution_count": 1,
   "metadata": {},
   "outputs": [
    {
     "output_type": "stream",
     "name": "stdout",
     "text": [
      "提取数据成功\n"
     ]
    }
   ],
   "source": [
    "import zipfile \n",
    "dataset_path = \"./data/MICCAI_BraTS_2018_Data_Training.zip\"  # Replace with your dataset path\n",
    "zfile = zipfile.ZipFile(dataset_path)\n",
    "zfile.extractall()\n",
    "print(\"提取数据成功\")"
   ]
  },
  {
   "source": [
    "## 安装依赖"
   ],
   "cell_type": "markdown",
   "metadata": {}
  },
  {
   "cell_type": "code",
   "execution_count": 2,
   "metadata": {},
   "outputs": [
    {
     "output_type": "stream",
     "name": "stdout",
     "text": [
      "\nCondaValueError: prefix already exists: /Users/zhi/opt/anaconda3/envs/tf_36\n\n"
     ]
    }
   ],
   "source": [
    "# venv\n",
    "# !python3 -m venv venv\n",
    "# !source venv/bin/active\n",
    "# !pip install -r requirements.txt\n",
    "\n",
    "# conda\n",
    "!conda env create -f enviroment.yml\n"
   ]
  },
  {
   "cell_type": "code",
   "execution_count": 22,
   "metadata": {},
   "outputs": [],
   "source": [
    "import SimpleITK as sitk  # For loading the dataset\n",
    "import numpy as np  # For data manipulation\n",
    "import glob  # For populating the list of files\n",
    "from scipy.ndimage import zoom  # For resizing\n",
    "import re  # For parsing the filenames (to know their modality)\n",
    "from tqdm import tqdm"
   ]
  },
  {
   "source": [
    "## 数据预处理"
   ],
   "cell_type": "markdown",
   "metadata": {}
  },
  {
   "cell_type": "code",
   "execution_count": 2,
   "metadata": {},
   "outputs": [],
   "source": [
    "def read_img(img_path):\n",
    "    \"\"\"\n",
    "    Reads a .nii.gz image and returns as a numpy array.\n",
    "    \"\"\"\n",
    "    return sitk.GetArrayFromImage(sitk.ReadImage(img_path))\n",
    "\n",
    "def resize(img, shape, mode='constant', orig_shape=(155, 240, 240)):\n",
    "    \"\"\"\n",
    "    Wrapper for scipy.ndimage.zoom suited for MRI images.\n",
    "    \"\"\"\n",
    "    assert len(shape) == 3, \"Can not have more than 3 dimensions\"\n",
    "    factors = (\n",
    "        shape[0]/orig_shape[0],\n",
    "        shape[1]/orig_shape[1], \n",
    "        shape[2]/orig_shape[2]\n",
    "    )\n",
    "    \n",
    "    # Resize to the given shape\n",
    "    return zoom(img, factors, mode=mode)\n",
    "\n",
    "def preprocess(img, out_shape=None):\n",
    "    \"\"\"\n",
    "    Preprocess the image.\n",
    "    Just an example, you can add more preprocessing steps if you wish to.\n",
    "    \"\"\"\n",
    "    if out_shape is not None:\n",
    "        img = resize(img, out_shape, mode='constant')\n",
    "    \n",
    "    # Normalize the image\n",
    "    mean = img.mean()\n",
    "    std = img.std()\n",
    "    return (img - mean) / std\n",
    "\n",
    "def preprocess_label(img, out_shape=None, mode='nearest'):\n",
    "    \"\"\"\n",
    "    Separates out the 3 labels from the segmentation provided, namely:\n",
    "    GD-enhancing tumor (ET — label 4), the peritumoral edema (ED — label 2))\n",
    "    and the necrotic and non-enhancing tumor core (NCR/NET — label 1)\n",
    "    \"\"\"\n",
    "    ncr = img == 1  # Necrotic and Non-Enhancing Tumor (NCR/NET)\n",
    "    ed = img == 2  # Peritumoral Edema (ED)\n",
    "    et = img == 4  # GD-enhancing Tumor (ET)\n",
    "    \n",
    "    if out_shape is not None:\n",
    "        ncr = resize(ncr, out_shape, mode=mode)\n",
    "        ed = resize(ed, out_shape, mode=mode)\n",
    "        et = resize(et, out_shape, mode=mode)\n",
    "\n",
    "    return np.array([ncr, ed, et], dtype=np.uint8)"
   ]
  },
  {
   "source": [
    "## 加载数据"
   ],
   "cell_type": "markdown",
   "metadata": {}
  },
  {
   "cell_type": "code",
   "execution_count": 3,
   "metadata": {},
   "outputs": [],
   "source": [
    "# Get a list of files for all modalities individually\n",
    "t1 = glob.glob('*GG/*/*t1.nii.gz')\n",
    "t2 = glob.glob('*GG/*/*t2.nii.gz')\n",
    "flair = glob.glob('*GG/*/*flair.nii.gz')\n",
    "t1ce = glob.glob('*GG/*/*t1ce.nii.gz')\n",
    "seg = glob.glob('*GG/*/*seg.nii.gz')  # Ground Truth"
   ]
  },
  {
   "cell_type": "code",
   "execution_count": 4,
   "metadata": {},
   "outputs": [],
   "source": [
    "pat = re.compile('.*_(\\w*)\\.nii\\.gz')\n",
    "\n",
    "data_paths = [{\n",
    "    pat.findall(item)[0]:item\n",
    "    for item in items\n",
    "}\n",
    "for items in list(zip(t1, t2, t1ce, flair, seg))]"
   ]
  },
  {
   "source": [
    "## 装载数据到 Numpy 数组"
   ],
   "cell_type": "markdown",
   "metadata": {}
  },
  {
   "cell_type": "code",
   "execution_count": 27,
   "metadata": {},
   "outputs": [],
   "source": [
    "input_shape = (4, 80, 96, 64)\n",
    "output_channels = 3\n",
    "data = np.empty((len(data_paths[:4]),) + input_shape, dtype=np.float32)\n",
    "labels = np.empty((len(data_paths[:4]), output_channels) + input_shape[1:], dtype=np.uint8)"
   ]
  },
  {
   "cell_type": "code",
   "execution_count": 28,
   "metadata": {},
   "outputs": [
    {
     "output_type": "stream",
     "name": "stderr",
     "text": [
      "load data: 100%|██████████| 4/4 [00:14<00:00,  3.62s/it]\n"
     ]
    }
   ],
   "source": [
    "total = len(data_paths[:4])\n",
    "\n",
    "for i, imgs in tqdm(enumerate(data_paths[:4]),desc=\"load data\",total=total):\n",
    "    data[i] = np.array([preprocess(read_img(imgs[m]), input_shape[1:]) for m in ['t1', 't2', 't1ce', 'flair']], dtype=np.float32)\n",
    "    labels[i] = preprocess_label(read_img(imgs['seg']), input_shape[1:])[None, ...]"
   ]
  },
  {
   "source": [
    "## 构建模型"
   ],
   "cell_type": "markdown",
   "metadata": {}
  },
  {
   "cell_type": "code",
   "execution_count": 29,
   "metadata": {},
   "outputs": [
    {
     "output_type": "stream",
     "name": "stdout",
     "text": [
      "(4, 80, 96, 64)\n(3, 80, 96, 64)\n"
     ]
    }
   ],
   "source": [
    "print(data[0].shape)\n",
    "print(labels[0].shape)"
   ]
  },
  {
   "source": [
    "## 展示图片"
   ],
   "cell_type": "markdown",
   "metadata": {}
  },
  {
   "cell_type": "code",
   "execution_count": 30,
   "metadata": {},
   "outputs": [
    {
     "output_type": "stream",
     "name": "stdout",
     "text": [
      "HGG/Brats18_CBICA_AOO_1/Brats18_CBICA_AOO_1_seg.nii.gz\n(240, 240)\n[0 1]\n1055\n2\n"
     ]
    },
    {
     "output_type": "execute_result",
     "data": {
      "text/plain": [
       "<matplotlib.image.AxesImage at 0x7fda4ad9d210>"
      ]
     },
     "metadata": {},
     "execution_count": 30
    },
    {
     "output_type": "display_data",
     "data": {
      "text/plain": "<Figure size 432x288 with 1 Axes>",
      "image/svg+xml": "<?xml version=\"1.0\" encoding=\"utf-8\" standalone=\"no\"?>\n<!DOCTYPE svg PUBLIC \"-//W3C//DTD SVG 1.1//EN\"\n  \"http://www.w3.org/Graphics/SVG/1.1/DTD/svg11.dtd\">\n<!-- Created with matplotlib (https://matplotlib.org/) -->\n<svg height=\"231.84pt\" version=\"1.1\" viewBox=\"0 0 231.84 231.84\" width=\"231.84pt\" xmlns=\"http://www.w3.org/2000/svg\" xmlns:xlink=\"http://www.w3.org/1999/xlink\">\n <metadata>\n  <rdf:RDF xmlns:cc=\"http://creativecommons.org/ns#\" xmlns:dc=\"http://purl.org/dc/elements/1.1/\" xmlns:rdf=\"http://www.w3.org/1999/02/22-rdf-syntax-ns#\">\n   <cc:Work>\n    <dc:type rdf:resource=\"http://purl.org/dc/dcmitype/StillImage\"/>\n    <dc:date>2020-11-08T20:59:13.940111</dc:date>\n    <dc:format>image/svg+xml</dc:format>\n    <dc:creator>\n     <cc:Agent>\n      <dc:title>Matplotlib v3.3.1, https://matplotlib.org/</dc:title>\n     </cc:Agent>\n    </dc:creator>\n   </cc:Work>\n  </rdf:RDF>\n </metadata>\n <defs>\n  <style type=\"text/css\">*{stroke-linecap:butt;stroke-linejoin:round;}</style>\n </defs>\n <g id=\"figure_1\">\n  <g id=\"patch_1\">\n   <path d=\"M 0 231.84 \nL 231.84 231.84 \nL 231.84 0 \nL 0 0 \nz\n\" style=\"fill:none;\"/>\n  </g>\n  <g id=\"axes_1\">\n   <g clip-path=\"url(#pa9c2be6086)\">\n    <image height=\"218\" id=\"image3b575515ad\" transform=\"scale(1 -1)translate(0 -218)\" width=\"218\" x=\"7.2\" xlink:href=\"data:image/png;base64,\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\" y=\"-6.64\"/>\n   </g>\n  </g>\n </g>\n <defs>\n  <clipPath id=\"pa9c2be6086\">\n   <rect height=\"217.44\" width=\"217.44\" x=\"7.2\" y=\"7.2\"/>\n  </clipPath>\n </defs>\n</svg>\n",
      "image/png": "[encoded data removed]"
     },
     "metadata": {
      "needs_background": "light"
     }
    }
   ],
   "source": [
    "import matplotlib.pyplot as plt\n",
    "print(seg[0])\n",
    "img = (read_img(seg[0])[100] == 2).astype(np.uint8)\n",
    "print(img.shape)\n",
    "print(np.unique(img))\n",
    "print(img.sum())\n",
    "print(np.asanyarray(img).ndim)\n",
    "plt.axis('off')\n",
    "plt.imshow(img,cmap='Greys_r')"
   ]
  },
  {
   "cell_type": "code",
   "execution_count": null,
   "metadata": {},
   "outputs": [],
   "source": []
  }
 ]
}